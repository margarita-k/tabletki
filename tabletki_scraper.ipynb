{
 "cells": [
  {
   "cell_type": "code",
   "execution_count": 25,
   "metadata": {},
   "outputs": [],
   "source": [
    "import scrapy\n",
    "import os\n",
    "current_dir = os.path.abspath('')\n",
    "url = os.path.join(current_dir, \"html/l-tyroxine_pharmacy_kiev\")\n",
    "with open(url, encoding='utf-8') as _f:\n",
    "    url_data = _f.read()\n",
    "\n",
    "response = scrapy.http.TextResponse(url, body=url_data, encoding='utf-8')"
   ]
  },
  {
   "cell_type": "code",
   "execution_count": 66,
   "metadata": {},
   "outputs": [
    {
     "name": "stdout",
     "output_type": "stream",
     "text": [
      "10\n"
     ]
    }
   ],
   "source": [
    "print(len(response.xpath(\"//main/div\")))\n"
   ]
  },
  {
   "cell_type": "code",
   "execution_count": 134,
   "metadata": {},
   "outputs": [
    {
     "name": "stdout",
     "output_type": "stream",
     "text": [
      "['вул.Богатирська 6/1, Київ', 'вул.Кирилівська 103А (Лікарня Павлова), Київ', 'вул.Академіка Корольова 2, Київ', 'пр.Свободи 17, Київ', 'вул.Миколи Кибальчича 11в, Київ', 'пр.Повітрофлотський 5, Київ', 'вул.Якуба Коласа 2, Київ', 'вул.Новопирогівська 29А, Київ', 'бул.Вацлава Гавела 40А, Київ', 'вул.Раїси Окіпної 4, Київ', 'пр.Володимира Маяковського 68, Київ', 'вул.Йорданська 20, Київ', 'вул.Олени Теліги 11, Київ', 'бул.Верховної Ради 31, Київ', 'вул.Володі Дубініна 12/12, Київ', 'вул.Градинська 11, Київ', 'вул.Маршала Тимошенка 7, Київ', 'вул.Теодора Драйзера 8, Київ', 'пр.Володимира Маяковського 15, Київ', 'вул.Єлизавети Чавдар 1, Київ']\n"
     ]
    }
   ],
   "source": [
    "print(response.xpath(\"\"\"//main/div[@class='show-map']/\n",
    "div[@class='container container__body']/\n",
    "div[@class='row h-100']/\n",
    "div[@class='col-sm-12 col__tabs h-100']/\n",
    "div[@class='tab-content tab-content__shopping-list']/\n",
    "div[@class='tab-pane tab-address fade show active']/\n",
    "div[@class='address-card__container map-cards tabletki-adcontainer ']/\n",
    "div[@class='address-card']/\n",
    "div[@class='address-card__header address-card__header--block ']/\n",
    "div[@class='d-flex w-100 justify-content-between']/\n",
    "div[@class='address-card__header--section w-100']/\n",
    "div[@class='address-card__header--address']/\n",
    "span/text()\"\"\").getall())\n"
   ]
  },
  {
   "cell_type": "code",
   "execution_count": 150,
   "metadata": {},
   "outputs": [
    {
     "name": "stdout",
     "output_type": "stream",
     "text": [
      "50.5181,30.48584\n",
      "50.48337,30.47259\n",
      "50.42783,30.39435\n",
      "50.51338,30.42224\n",
      "50.49309,30.59857\n",
      "50.4422,30.48027\n",
      "50.43414,30.37453\n",
      "50.36385,30.55575\n",
      "50.42599,30.41854\n",
      "50.45011,30.59566\n",
      "50.52613,30.62081\n",
      "50.49862,30.50624\n",
      "50.46907,30.44628\n",
      "50.45186,30.62966\n",
      "50.39232,30.49636\n",
      "50.51905,30.59729\n",
      "50.50898,30.48987\n",
      "50.50281,30.60519\n",
      "50.50195,30.59167\n",
      "50.39358,30.6183\n"
     ]
    }
   ],
   "source": [
    "for location in address_cards.xpath(\"\"\"div[@class='address-card']/\n",
    "    div[@class='address-card__header address-card__header--block ']\"\"\").xpath('@data-location').getall():\n",
    "    print(location)\n",
    "    "
   ]
  },
  {
   "cell_type": "code",
   "execution_count": 157,
   "metadata": {},
   "outputs": [],
   "source": [
    "addresses = response.xpath(\"//div[@class='address-card__header--address']/span/text()\").getall()\n",
    "location = response.xpath(\"//div[@class='address-card__header address-card__header--block ']\").xpath('@data-location').getall()"
   ]
  },
  {
   "cell_type": "code",
   "execution_count": 156,
   "metadata": {},
   "outputs": [
    {
     "name": "stdout",
     "output_type": "stream",
     "text": [
      "вул.Богатирська 6/1, Київ\n",
      "вул.Кирилівська 103А (Лікарня Павлова), Київ\n",
      "вул.Академіка Корольова 2, Київ\n",
      "пр.Свободи 17, Київ\n",
      "вул.Миколи Кибальчича 11в, Київ\n",
      "пр.Повітрофлотський 5, Київ\n",
      "вул.Якуба Коласа 2, Київ\n",
      "вул.Новопирогівська 29А, Київ\n",
      "бул.Вацлава Гавела 40А, Київ\n",
      "вул.Раїси Окіпної 4, Київ\n",
      "пр.Володимира Маяковського 68, Київ\n",
      "вул.Йорданська 20, Київ\n",
      "вул.Олени Теліги 11, Київ\n",
      "бул.Верховної Ради 31, Київ\n",
      "вул.Володі Дубініна 12/12, Київ\n",
      "вул.Градинська 11, Київ\n",
      "вул.Маршала Тимошенка 7, Київ\n",
      "вул.Теодора Драйзера 8, Київ\n",
      "пр.Володимира Маяковського 15, Київ\n",
      "вул.Єлизавети Чавдар 1, Київ\n"
     ]
    }
   ],
   "source": [
    "for address in addresses:\n",
    "    print(address)\n"
   ]
  },
  {
   "cell_type": "code",
   "execution_count": 158,
   "metadata": {},
   "outputs": [
    {
     "name": "stdout",
     "output_type": "stream",
     "text": [
      "50.5181,30.48584\n",
      "50.48337,30.47259\n",
      "50.42783,30.39435\n",
      "50.51338,30.42224\n",
      "50.49309,30.59857\n",
      "50.4422,30.48027\n",
      "50.43414,30.37453\n",
      "50.36385,30.55575\n",
      "50.42599,30.41854\n",
      "50.45011,30.59566\n",
      "50.52613,30.62081\n",
      "50.49862,30.50624\n",
      "50.46907,30.44628\n",
      "50.45186,30.62966\n",
      "50.39232,30.49636\n",
      "50.51905,30.59729\n",
      "50.50898,30.48987\n",
      "50.50281,30.60519\n",
      "50.50195,30.59167\n",
      "50.39358,30.6183\n"
     ]
    }
   ],
   "source": [
    "for loc in location:\n",
    "    print(loc)"
   ]
  },
  {
   "cell_type": "code",
   "execution_count": 163,
   "metadata": {},
   "outputs": [
    {
     "name": "stdout",
     "output_type": "stream",
     "text": [
      "('вул.Богатирська 6/1, Київ', '50.5181,30.48584')\n",
      "('вул.Кирилівська 103А (Лікарня Павлова), Київ', '50.48337,30.47259')\n",
      "('вул.Академіка Корольова 2, Київ', '50.42783,30.39435')\n",
      "('пр.Свободи 17, Київ', '50.51338,30.42224')\n",
      "('вул.Миколи Кибальчича 11в, Київ', '50.49309,30.59857')\n",
      "('пр.Повітрофлотський 5, Київ', '50.4422,30.48027')\n",
      "('вул.Якуба Коласа 2, Київ', '50.43414,30.37453')\n",
      "('вул.Новопирогівська 29А, Київ', '50.36385,30.55575')\n",
      "('бул.Вацлава Гавела 40А, Київ', '50.42599,30.41854')\n",
      "('вул.Раїси Окіпної 4, Київ', '50.45011,30.59566')\n",
      "('пр.Володимира Маяковського 68, Київ', '50.52613,30.62081')\n",
      "('вул.Йорданська 20, Київ', '50.49862,30.50624')\n",
      "('вул.Олени Теліги 11, Київ', '50.46907,30.44628')\n",
      "('бул.Верховної Ради 31, Київ', '50.45186,30.62966')\n",
      "('вул.Володі Дубініна 12/12, Київ', '50.39232,30.49636')\n",
      "('вул.Градинська 11, Київ', '50.51905,30.59729')\n",
      "('вул.Маршала Тимошенка 7, Київ', '50.50898,30.48987')\n",
      "('вул.Теодора Драйзера 8, Київ', '50.50281,30.60519')\n",
      "('пр.Володимира Маяковського 15, Київ', '50.50195,30.59167')\n",
      "('вул.Єлизавети Чавдар 1, Київ', '50.39358,30.6183')\n"
     ]
    }
   ],
   "source": [
    "dataset = {}\n",
    "for i in range(len(location)):\n",
    "    dataset[addresses[i]]=location[i]\n",
    "\n",
    "for item in dataset.items():\n",
    "    print(item)\n",
    "    "
   ]
  }
 ],
 "metadata": {
  "interpreter": {
   "hash": "ebd12b9c5c895d8d5ada5d428030c256f6f149efea4371a9293312a8d132d6a6"
  },
  "kernelspec": {
   "display_name": "Python 3.8.13 ('myenv')",
   "language": "python",
   "name": "python3"
  },
  "language_info": {
   "codemirror_mode": {
    "name": "ipython",
    "version": 3
   },
   "file_extension": ".py",
   "mimetype": "text/x-python",
   "name": "python",
   "nbconvert_exporter": "python",
   "pygments_lexer": "ipython3",
   "version": "3.8.13"
  },
  "orig_nbformat": 4
 },
 "nbformat": 4,
 "nbformat_minor": 2
}
